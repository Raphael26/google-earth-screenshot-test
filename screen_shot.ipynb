{
 "cells": [
  {
   "cell_type": "code",
   "execution_count": 6,
   "metadata": {},
   "outputs": [],
   "source": [
    "from selenium import webdriver\n",
    "from selenium.webdriver.common.by import By\n",
    "from selenium.webdriver.common.keys import Keys\n",
    "from fillpdf import fillpdfs\n",
    "import pyscreenshot\n",
    "import time"
   ]
  },
  {
   "cell_type": "code",
   "execution_count": 7,
   "metadata": {},
   "outputs": [],
   "source": [
    "def take_screenshot(localisation) :\n",
    "    driver = webdriver.Chrome()\n",
    "    driver.maximize_window()\n",
    "    driver.get('https://www.google.fr/maps/')\n",
    "\n",
    "    # Passer l\"étape des cookies en cliquer sur accepter via le lien XPath du bouton\n",
    "    cookie = driver.find_elements(By.XPATH, \"/html/body/c-wiz/div/div/div/div[2]/div[1]/div[3]/div[1]/div[1]/form[2]/div/div/button/span\")\n",
    "    cookie[0].click()\n",
    "\n",
    "    # Trouver la barre de recherche et cliquer dessus afin de pouvoir input le lieu a chercher\n",
    "    search = driver.find_element(By.ID, \"searchboxinput\")\n",
    "    search.click()\n",
    "    search.send_keys(localisation)\n",
    "    search.send_keys(Keys.ENTER)\n",
    "\n",
    "\n",
    "    # pour laisser le temps de charger a la page au cas ou\n",
    "    time.sleep(3) \n",
    "\n",
    "    driver.find_element(By.ID, \"widget-zoom-out\").click()\n",
    "\n",
    "    driver.find_element(By.CSS_SELECTOR, '[jsaction=\"minimap.main;contextmenu:minimap.main;focus:minimap.main;mousemove:minimap.main;mouseover:minimap.main;mouseout:minimap.main\"]').click()\n",
    "\n",
    "\n",
    "    time.sleep(2)\n",
    "\n",
    "    # permet de prendre un screenshot d'une zone de l\"écran\n",
    "    image = pyscreenshot.grab(bbox=(775,400,1645,800))\n",
    "    image.save(\"Temp.png\")\n",
    "    # Fermer la page internet dès que c'est fini\n",
    "    driver.quit()\n"
   ]
  },
  {
   "cell_type": "code",
   "execution_count": null,
   "metadata": {},
   "outputs": [],
   "source": [
    "take_screenshot(\"13 rue baudin levallois\")"
   ]
  },
  {
   "cell_type": "code",
   "execution_count": 8,
   "metadata": {},
   "outputs": [],
   "source": [
    "\n"
   ]
  },
  {
   "cell_type": "code",
   "execution_count": 9,
   "metadata": {},
   "outputs": [],
   "source": [
    "def place_figure(figure, dossier_path, x_coordinate, y_coordinate, page, height, width):\n",
    "\n",
    "    try:\n",
    "        fillpdfs.place_image(figure,\n",
    "                             x = x_coordinate,\n",
    "                             y = y_coordinate,\n",
    "                             input_pdf_path = f\"{dossier_path}/resultat/audit.pdf\",\n",
    "                             output_map_path = f\"{dossier_path}/resultat/audit sortie.pdf\",\n",
    "                             page_number = page,\n",
    "                             height = height,\n",
    "                             width = width)\n",
    "       \n",
    "    except Exception as e:\n",
    "        print(f\"Problem with place_figure function. The {figure} has not been placed correctly\")\n",
    "        print(f\"It is due to the following error: \\n {e}\") \n"
   ]
  },
  {
   "cell_type": "code",
   "execution_count": 10,
   "metadata": {},
   "outputs": [],
   "source": [
    "place_figure(\"Temp.png\", \"/home/Stanislas/stage/Python/google-earth-screenshot/\", -95, 600, 6, 160, 800)"
   ]
  }
 ],
 "metadata": {
  "kernelspec": {
   "display_name": "Python 3",
   "language": "python",
   "name": "python3"
  },
  "language_info": {
   "codemirror_mode": {
    "name": "ipython",
    "version": 3
   },
   "file_extension": ".py",
   "mimetype": "text/x-python",
   "name": "python",
   "nbconvert_exporter": "python",
   "pygments_lexer": "ipython3",
   "version": "3.10.11"
  },
  "orig_nbformat": 4
 },
 "nbformat": 4,
 "nbformat_minor": 2
}
